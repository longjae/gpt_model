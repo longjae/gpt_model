{
 "cells": [
  {
   "cell_type": "markdown",
   "metadata": {},
   "source": [
    "# Serialization\n"
   ]
  },
  {
   "cell_type": "code",
   "execution_count": 1,
   "metadata": {},
   "outputs": [
    {
     "name": "stdout",
     "output_type": "stream",
     "text": [
      "Here is a simple recipe for making soju at home:\n",
      "\n",
      "Ingredients:\n",
      "- 1 cup of rice\n",
      "- 1 cup of nuruk (a Korean fermentation starter)\n",
      "- 10 cups of water\n",
      "- 1 tablespoon of yeast\n",
      "- 1 tablespoon of sugar (optional, for added sweetness)\n",
      "\n",
      "Instructions:\n",
      "1. Rinse the rice thoroughly and soak it in water for about 1 hour.\n",
      "2. Drain the soaked rice and transfer it to a large pot. Add 10 cups of water and bring it to a boil.\n",
      "3. Reduce the heat to low and simmer the rice for about 30 minutes, or until it becomes soft and mushy.\n",
      "4. Remove the pot from heat and let it cool down to room temperature.\n",
      "5. Once the rice has cooled, transfer it to a large fermentation container or jar.\n",
      "6. Add the nuruk and yeast to the container and mix well with a wooden spoon.\n",
      "7. Cover the container with a clean cloth or plastic wrap and let it ferment for about 7-10 days at room temperature.\n",
      "8. After the fermentation period, strain the mixture through a cheesecloth or fine mesh strainer to remove any solids.\n",
      "9. If desired, add sugar to the strained liquid and stir until dissolved.\n",
      "10. Transfer the liquid to a clean bottle or bottles and seal them tightly.\n",
      "11. Store the bottles in a cool, dark place for at least 2 weeks to allow the flavors to develop.\n",
      "12. After the aging period, your homemade soju is ready to be enjoyed!\n",
      "\n",
      "Please note that making soju at home requires proper knowledge and caution. It is also important to follow local laws and regulations regarding alcohol production and consumption. \n",
      "\n",
      "Here is a basic recipe for making bread:\n",
      "\n",
      "Ingredients:\n",
      "- 4 cups all-purpose flour\n",
      "- 2 teaspoons active dry yeast\n",
      "- 2 teaspoons salt\n",
      "- 2 teaspoons sugar\n",
      "- 2 cups warm water\n",
      "- 2 tablespoons olive oil\n",
      "\n",
      "Instructions:\n",
      "1. In a large mixing bowl, combine the warm water and sugar. Stir until the sugar is dissolved.\n",
      "2. Sprinkle the yeast over the water and let it sit for about 5 minutes until it becomes frothy.\n",
      "3. Add the flour, salt, and olive oil to the bowl. Mix everything together until a dough forms.\n",
      "4. Transfer the dough onto a floured surface and knead it for about 10 minutes until it becomes smooth and elastic.\n",
      "5. Place the dough in a greased bowl, cover it with a clean kitchen towel, and let it rise in a warm place for about 1-2 hours until it doubles in size.\n",
      "6. Preheat your oven to 425°F (220°C) and place a baking stone or baking sheet inside to heat up.\n",
      "7. Punch down the risen dough to release any air bubbles. Shape it into a loaf or desired shape.\n",
      "8. Place the shaped dough onto a parchment-lined baking sheet or onto the preheated baking stone.\n",
      "9. Optional: Score the top of the dough with a sharp knife to create decorative patterns.\n",
      "10. Bake the bread in the preheated oven for about 25-30 minutes until it turns golden brown and sounds hollow when tapped on the bottom.\n",
      "11. Remove the bread from the oven and let it cool on a wire rack before slicing and serving.\n",
      "\n",
      "Note: This is a basic bread recipe, and you can customize it by adding herbs, spices, or other ingredients to suit your taste. \n",
      "\n",
      "Tokens Used: 729\n",
      "\tPrompt Tokens: 27\n",
      "\tCompletion Tokens: 702\n",
      "Successful Requests: 2\n",
      "Total Cost (USD): $0.0014445\n"
     ]
    }
   ],
   "source": [
    "from langchain.chat_models import ChatOpenAI\n",
    "from langchain.callbacks import get_openai_callback\n",
    "\n",
    "chat = ChatOpenAI(\n",
    "    temperature=0.1,\n",
    ")\n",
    "\n",
    "\n",
    "with get_openai_callback() as usage:\n",
    "    a = chat.predict(\"What is the recipe for soju\")\n",
    "    b = chat.predict(\"What is the recipe for bread\")\n",
    "    print(a, \"\\n\")\n",
    "    print(b, \"\\n\")\n",
    "    print(usage)"
   ]
  },
  {
   "cell_type": "markdown",
   "metadata": {},
   "source": [
    "## Model Save\n"
   ]
  },
  {
   "cell_type": "code",
   "execution_count": 2,
   "metadata": {},
   "outputs": [],
   "source": [
    "from langchain.llms.openai import OpenAI\n",
    "\n",
    "chat = OpenAI(temperature=0.1, max_tokens=450, model=\"gpt-3.5-turbo\")\n",
    "chat.save(\"model.json\")"
   ]
  },
  {
   "cell_type": "markdown",
   "metadata": {},
   "source": [
    "## Model Load\n"
   ]
  },
  {
   "cell_type": "code",
   "execution_count": 3,
   "metadata": {},
   "outputs": [
    {
     "name": "stderr",
     "output_type": "stream",
     "text": [
      "/home/root1/workspace/gpt_model/env/lib/python3.11/site-packages/langchain/llms/openai.py:216: UserWarning: You are trying to use a chat model. This way of initializing it is no longer supported. Instead, please use: `from langchain.chat_models import ChatOpenAI`\n",
      "  warnings.warn(\n",
      "/home/root1/workspace/gpt_model/env/lib/python3.11/site-packages/langchain/llms/openai.py:811: UserWarning: You are trying to use a chat model. This way of initializing it is no longer supported. Instead, please use: `from langchain.chat_models import ChatOpenAI`\n",
      "  warnings.warn(\n"
     ]
    },
    {
     "data": {
      "text/plain": [
       "OpenAIChat(client=<class 'openai.api_resources.chat_completion.ChatCompletion'>, model_kwargs={'temperature': 0.1, 'max_tokens': 450, 'top_p': 1, 'frequency_penalty': 0, 'presence_penalty': 0, 'n': 1, 'request_timeout': None, 'logit_bias': {}})"
      ]
     },
     "execution_count": 3,
     "metadata": {},
     "output_type": "execute_result"
    }
   ],
   "source": [
    "from langchain.llms.loading import load_llm\n",
    "\n",
    "chat = load_llm(\"model.json\")\n",
    "\n",
    "chat"
   ]
  },
  {
   "cell_type": "code",
   "execution_count": null,
   "metadata": {},
   "outputs": [],
   "source": []
  }
 ],
 "metadata": {
  "kernelspec": {
   "display_name": "env",
   "language": "python",
   "name": "python3"
  },
  "language_info": {
   "codemirror_mode": {
    "name": "ipython",
    "version": 3
   },
   "file_extension": ".py",
   "mimetype": "text/x-python",
   "name": "python",
   "nbconvert_exporter": "python",
   "pygments_lexer": "ipython3",
   "version": "3.11.7"
  }
 },
 "nbformat": 4,
 "nbformat_minor": 2
}
