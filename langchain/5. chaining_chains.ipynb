{
 "cells": [
  {
   "cell_type": "markdown",
   "metadata": {},
   "source": [
    "# Chaining Chains\n"
   ]
  },
  {
   "cell_type": "code",
   "execution_count": 6,
   "metadata": {},
   "outputs": [],
   "source": [
    "from langchain.chat_models import ChatOpenAI\n",
    "from langchain.prompts import ChatPromptTemplate\n",
    "from langchain.callbacks import StreamingStdOutCallbackHandler\n",
    "\n",
    "chat = ChatOpenAI(\n",
    "    temperature=0.1,\n",
    "    streaming=True,  # chat model이 응답하는 결과를 실시간으로 확인할 수 있게 해줌\n",
    "    callbacks=[StreamingStdOutCallbackHandler()],\n",
    ")"
   ]
  },
  {
   "cell_type": "code",
   "execution_count": 7,
   "metadata": {},
   "outputs": [],
   "source": [
    "chef_prompt = ChatPromptTemplate.from_messages(\n",
    "    [\n",
    "        (\n",
    "            \"system\",\n",
    "            \"You are a world-class international chef. You create easy to follow \\\n",
    "        recipies for any type of cuisine with easy to find ingredients\",\n",
    "        ),\n",
    "        (\"human\", \"I want to cook {cuisine} food.\"),\n",
    "    ]\n",
    ")\n",
    "\n",
    "chef_chain = chef_prompt | chat"
   ]
  },
  {
   "cell_type": "code",
   "execution_count": 8,
   "metadata": {},
   "outputs": [],
   "source": [
    "veg_chef_prompt = ChatPromptTemplate.from_messages(\n",
    "    [\n",
    "        (\n",
    "            \"system\",\n",
    "            \"You are a vegetarian chef specialized on making traditional recipies \\\n",
    "        vegitarian. You find alternative ingredients and explain their preparation. You \\\n",
    "        don't radically modify the recipe. If there is no altrenative for a food just \\\n",
    "        say you don't know how to replace it.\",\n",
    "        ),\n",
    "        (\"human\", \"{recipe}\"),\n",
    "    ]\n",
    ")\n",
    "\n",
    "veg_chain = veg_chef_prompt | chat"
   ]
  },
  {
   "cell_type": "code",
   "execution_count": 9,
   "metadata": {},
   "outputs": [
    {
     "name": "stdout",
     "output_type": "stream",
     "text": [
      "Great choice! Indian cuisine is known for its vibrant flavors and aromatic spices. Here's a simple recipe for Chicken Tikka Masala, a popular Indian dish:\n",
      "\n",
      "Ingredients:\n",
      "- 500g boneless chicken, cut into bite-sized pieces\n",
      "- 1 cup plain yogurt\n",
      "- 2 tablespoons lemon juice\n",
      "- 2 tablespoons vegetable oil\n",
      "- 1 large onion, finely chopped\n",
      "- 3 cloves of garlic, minced\n",
      "- 1-inch piece of ginger, grated\n",
      "- 2 teaspoons ground cumin\n",
      "- 2 teaspoons ground coriander\n",
      "- 1 teaspoon turmeric powder\n",
      "- 1 teaspoon paprika\n",
      "- 1 teaspoon garam masala\n",
      "- 1 cup tomato puree\n",
      "- 1 cup heavy cream\n",
      "- Salt, to taste\n",
      "- Fresh cilantro, for garnish\n",
      "\n",
      "Instructions:\n",
      "1. In a bowl, combine the yogurt, lemon juice, 1 teaspoon of cumin, 1 teaspoon of coriander, turmeric powder, paprika, and salt. Mix well.\n",
      "2. Add the chicken pieces to the marinade and coat them evenly. Let it marinate for at least 1 hour, or overnight in the refrigerator for better flavor.\n",
      "3. Preheat your grill or oven to medium-high heat. If using a grill, thread the chicken onto skewers. If using an oven, place the chicken on a baking sheet lined with parchment paper.\n",
      "4. Cook the chicken for about 10-12 minutes, turning occasionally, until it is cooked through and slightly charred. Remove from heat and set aside.\n",
      "5. In a large pan, heat the vegetable oil over medium heat. Add the chopped onion and cook until it becomes translucent.\n",
      "6. Add the minced garlic and grated ginger to the pan and cook for another minute until fragrant.\n",
      "7. Stir in the remaining cumin, coriander, garam masala, and salt. Cook for a minute to toast the spices.\n",
      "8. Add the tomato puree to the pan and cook for 2-3 minutes, stirring occasionally.\n",
      "9. Reduce the heat to low and pour in the heavy cream. Stir well to combine.\n",
      "10. Add the cooked chicken pieces to the sauce and simmer for 5-7 minutes, allowing the flavors to meld together.\n",
      "11. Taste and adjust the seasoning if needed.\n",
      "12. Garnish with fresh cilantro and serve hot with steamed rice or naan bread.\n",
      "\n",
      "Enjoy your homemade Chicken Tikka Masala, a classic Indian dish that is sure to impress!To make a vegetarian version of Chicken Tikka Masala, you can replace the chicken with a plant-based protein alternative such as tofu or tempeh. Here's how you can modify the recipe:\n",
      "\n",
      "Ingredients:\n",
      "- 500g tofu or tempeh, cut into bite-sized pieces\n",
      "- 1 cup plain yogurt (use dairy-free yogurt for a vegan version)\n",
      "- 2 tablespoons lemon juice\n",
      "- 2 tablespoons vegetable oil\n",
      "- 1 large onion, finely chopped\n",
      "- 3 cloves of garlic, minced\n",
      "- 1-inch piece of ginger, grated\n",
      "- 2 teaspoons ground cumin\n",
      "- 2 teaspoons ground coriander\n",
      "- 1 teaspoon turmeric powder\n",
      "- 1 teaspoon paprika\n",
      "- 1 teaspoon garam masala\n",
      "- 1 cup tomato puree\n",
      "- 1 cup coconut cream (or dairy-free heavy cream substitute)\n",
      "- Salt, to taste\n",
      "- Fresh cilantro, for garnish\n",
      "\n",
      "Instructions:\n",
      "1. In a bowl, combine the yogurt, lemon juice, 1 teaspoon of cumin, 1 teaspoon of coriander, turmeric powder, paprika, and salt. Mix well.\n",
      "2. Add the tofu or tempeh pieces to the marinade and coat them evenly. Let it marinate for at least 1 hour, or overnight in the refrigerator for better flavor.\n",
      "3. Preheat your grill or oven to medium-high heat. If using a grill, thread the tofu or tempeh onto skewers. If using an oven, place the tofu or tempeh on a baking sheet lined with parchment paper.\n",
      "4. Cook the tofu or tempeh for about 10-12 minutes, turning occasionally, until it is cooked through and slightly charred. Remove from heat and set aside.\n",
      "5. In a large pan, heat the vegetable oil over medium heat. Add the chopped onion and cook until it becomes translucent.\n",
      "6. Add the minced garlic and grated ginger to the pan and cook for another minute until fragrant.\n",
      "7. Stir in the remaining cumin, coriander, garam masala, and salt. Cook for a minute to toast the spices.\n",
      "8. Add the tomato puree to the pan and cook for 2-3 minutes, stirring occasionally.\n",
      "9. Reduce the heat to low and pour in the coconut cream. Stir well to combine.\n",
      "10. Add the cooked tofu or tempeh pieces to the sauce and simmer for 5-7 minutes, allowing the flavors to meld together.\n",
      "11. Taste and adjust the seasoning if needed.\n",
      "12. Garnish with fresh cilantro and serve hot with steamed rice or naan bread.\n",
      "\n",
      "Enjoy your vegetarian version of Chicken Tikka Masala!"
     ]
    },
    {
     "data": {
      "text/plain": [
       "AIMessageChunk(content=\"To make a vegetarian version of Chicken Tikka Masala, you can replace the chicken with a plant-based protein alternative such as tofu or tempeh. Here's how you can modify the recipe:\\n\\nIngredients:\\n- 500g tofu or tempeh, cut into bite-sized pieces\\n- 1 cup plain yogurt (use dairy-free yogurt for a vegan version)\\n- 2 tablespoons lemon juice\\n- 2 tablespoons vegetable oil\\n- 1 large onion, finely chopped\\n- 3 cloves of garlic, minced\\n- 1-inch piece of ginger, grated\\n- 2 teaspoons ground cumin\\n- 2 teaspoons ground coriander\\n- 1 teaspoon turmeric powder\\n- 1 teaspoon paprika\\n- 1 teaspoon garam masala\\n- 1 cup tomato puree\\n- 1 cup coconut cream (or dairy-free heavy cream substitute)\\n- Salt, to taste\\n- Fresh cilantro, for garnish\\n\\nInstructions:\\n1. In a bowl, combine the yogurt, lemon juice, 1 teaspoon of cumin, 1 teaspoon of coriander, turmeric powder, paprika, and salt. Mix well.\\n2. Add the tofu or tempeh pieces to the marinade and coat them evenly. Let it marinate for at least 1 hour, or overnight in the refrigerator for better flavor.\\n3. Preheat your grill or oven to medium-high heat. If using a grill, thread the tofu or tempeh onto skewers. If using an oven, place the tofu or tempeh on a baking sheet lined with parchment paper.\\n4. Cook the tofu or tempeh for about 10-12 minutes, turning occasionally, until it is cooked through and slightly charred. Remove from heat and set aside.\\n5. In a large pan, heat the vegetable oil over medium heat. Add the chopped onion and cook until it becomes translucent.\\n6. Add the minced garlic and grated ginger to the pan and cook for another minute until fragrant.\\n7. Stir in the remaining cumin, coriander, garam masala, and salt. Cook for a minute to toast the spices.\\n8. Add the tomato puree to the pan and cook for 2-3 minutes, stirring occasionally.\\n9. Reduce the heat to low and pour in the coconut cream. Stir well to combine.\\n10. Add the cooked tofu or tempeh pieces to the sauce and simmer for 5-7 minutes, allowing the flavors to meld together.\\n11. Taste and adjust the seasoning if needed.\\n12. Garnish with fresh cilantro and serve hot with steamed rice or naan bread.\\n\\nEnjoy your vegetarian version of Chicken Tikka Masala!\")"
      ]
     },
     "execution_count": 9,
     "metadata": {},
     "output_type": "execute_result"
    }
   ],
   "source": [
    "final_chain = {\"recipe\": chef_chain} | veg_chain\n",
    "\n",
    "final_chain.invoke({\"cuisine\": \"indian\"})"
   ]
  },
  {
   "cell_type": "code",
   "execution_count": null,
   "metadata": {},
   "outputs": [],
   "source": []
  }
 ],
 "metadata": {
  "kernelspec": {
   "display_name": "Python 3",
   "language": "python",
   "name": "python3"
  },
  "language_info": {
   "codemirror_mode": {
    "name": "ipython",
    "version": 3
   },
   "file_extension": ".py",
   "mimetype": "text/x-python",
   "name": "python",
   "nbconvert_exporter": "python",
   "pygments_lexer": "ipython3",
   "version": "3.11.7"
  }
 },
 "nbformat": 4,
 "nbformat_minor": 2
}
