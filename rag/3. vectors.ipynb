{
 "cells": [
  {
   "cell_type": "code",
   "execution_count": 11,
   "metadata": {},
   "outputs": [
    {
     "data": {
      "text/plain": [
       "1536"
      ]
     },
     "execution_count": 11,
     "metadata": {},
     "output_type": "execute_result"
    }
   ],
   "source": [
    "from langchain.embeddings import OpenAIEmbeddings\n",
    "\n",
    "embedder = OpenAIEmbeddings()\n",
    "\n",
    "vector = embedder.embed_query(\"Hi\")\n",
    "len(vector)"
   ]
  },
  {
   "cell_type": "code",
   "execution_count": 12,
   "metadata": {},
   "outputs": [
    {
     "data": {
      "text/plain": [
       "4"
      ]
     },
     "execution_count": 12,
     "metadata": {},
     "output_type": "execute_result"
    }
   ],
   "source": [
    "vector = embedder.embed_documents(\n",
    "    [\n",
    "        \"hi\",\n",
    "        \"how\",\n",
    "        \"are\",\n",
    "        \"you\",\n",
    "    ]\n",
    ")\n",
    "\n",
    "len(vector)"
   ]
  },
  {
   "cell_type": "code",
   "execution_count": 13,
   "metadata": {},
   "outputs": [
    {
     "name": "stdout",
     "output_type": "stream",
     "text": [
      "4 1536\n"
     ]
    }
   ],
   "source": [
    "print(len(vector), len(vector[0]))"
   ]
  },
  {
   "cell_type": "code",
   "execution_count": 19,
   "metadata": {},
   "outputs": [],
   "source": [
    "from langchain.chat_models import ChatOpenAI\n",
    "from langchain.document_loaders import UnstructuredFileLoader\n",
    "from langchain.text_splitter import CharacterTextSplitter\n",
    "from langchain.embeddings import OpenAIEmbeddings, CacheBackedEmbeddings\n",
    "from langchain.vectorstores import Chroma\n",
    "from langchain.storage import LocalFileStore\n",
    "\n",
    "cache_dir = LocalFileStore(\"./.cache/\")\n",
    "\n",
    "splitter = CharacterTextSplitter.from_tiktoken_encoder(\n",
    "    separator=\"\\n\",\n",
    "    chunk_size=600,\n",
    "    chunk_overlap=100,\n",
    ")\n",
    "\n",
    "loader = UnstructuredFileLoader(\"./files/chapter_one.docx\")\n",
    "docs = loader.load_and_split(text_splitter=splitter)\n",
    "embeddings = OpenAIEmbeddings()\n",
    "cached_embeddings = CacheBackedEmbeddings.from_bytes_store(embeddings, cache_dir)\n",
    "vectorstore = Chroma.from_documents(docs, cached_embeddings)"
   ]
  },
  {
   "cell_type": "code",
   "execution_count": 15,
   "metadata": {},
   "outputs": [
    {
     "data": {
      "text/plain": [
       "[Document(page_content=\"Part One\\n1\\nIt was a bright cold day in April, and the clocks were striking thirteen. Winston Smith, his chin \\nnuzzled into his breast in an effort to escape the vile wind, slipped quickly through the glass doors \\nof Victory Mansions, though not quickly enough to prevent a swirl of gritty dust from entering \\nalong with him.\\nThe hallway smelt of boiled cabbage and old rag mats. At one end of it a coloured poster, too \\nlarge for indoor display, had been tacked to the wall. It depicted simply an enormous face, more \\nthan a metre wide: the face of a man of about forty-five, with a heavy black moustache and \\nruggedly handsome features. Winston made for the stairs. It was no use trying the lift. Even at the \\nbest of times it was seldom working, and at present the electric current was cut off during daylight \\nhours. It was part of the economy drive in preparation for Hate Week. The flat was seven flights up, \\nand Winston, who was thirty-nine and had a varicose ulcer above his right ankle, went slowly, \\nresting several times on the way. On each landing, opposite the lift-shaft, the poster with the \\nenormous face gazed from the wall. It was one of those pictures which are so contrived that the \\neyes follow you about when you move. BIG BROTHER IS WATCHING YOU, the caption beneath it ran.\\nInside the flat a fruity voice was reading out a list of figures which had something to do with the \\nproduction of pig-iron. The voice came from an oblong metal plaque like a dulled mirror \\nwhich formed part of the surface of the right-hand wall. Winston turned a switch and the voice sank \\nsomewhat, though the words were still distinguishable. The instrument (the telescreen, it was \\ncalled) could be dimmed, but there was no way of shutting it off completely. He moved over to the \\nwindow: a smallish, frail figure, the meagreness of his body merely emphasized by the blue overalls \\nwhich were the uniform of the party. His hair was very fair, his face naturally sanguine, his skin \\nroughened by coarse soap and blunt razor blades and the cold of the winter that had just ended.\\nOutside, even through the shut window-pane, the world looked cold. Down in the street little \\neddies of wind were whirling dust and torn paper into spirals, and though the sun was shining \\nand the sky a harsh blue, there seemed to be no colour in anything, except the posters that \\nwere plastered everywhere. The blackmoustachio'd face gazed down from every commanding corner.\", metadata={'source': './files/chapter_one.docx'}),\n",
       " Document(page_content=\"Part One\\n1\\nIt was a bright cold day in April, and the clocks were striking thirteen. Winston Smith, his chin \\nnuzzled into his breast in an effort to escape the vile wind, slipped quickly through the glass doors \\nof Victory Mansions, though not quickly enough to prevent a swirl of gritty dust from entering \\nalong with him.\\nThe hallway smelt of boiled cabbage and old rag mats. At one end of it a coloured poster, too \\nlarge for indoor display, had been tacked to the wall. It depicted simply an enormous face, more \\nthan a metre wide: the face of a man of about forty-five, with a heavy black moustache and \\nruggedly handsome features. Winston made for the stairs. It was no use trying the lift. Even at the \\nbest of times it was seldom working, and at present the electric current was cut off during daylight \\nhours. It was part of the economy drive in preparation for Hate Week. The flat was seven flights up, \\nand Winston, who was thirty-nine and had a varicose ulcer above his right ankle, went slowly, \\nresting several times on the way. On each landing, opposite the lift-shaft, the poster with the \\nenormous face gazed from the wall. It was one of those pictures which are so contrived that the \\neyes follow you about when you move. BIG BROTHER IS WATCHING YOU, the caption beneath it ran.\\nInside the flat a fruity voice was reading out a list of figures which had something to do with the \\nproduction of pig-iron. The voice came from an oblong metal plaque like a dulled mirror \\nwhich formed part of the surface of the right-hand wall. Winston turned a switch and the voice sank \\nsomewhat, though the words were still distinguishable. The instrument (the telescreen, it was \\ncalled) could be dimmed, but there was no way of shutting it off completely. He moved over to the \\nwindow: a smallish, frail figure, the meagreness of his body merely emphasized by the blue overalls \\nwhich were the uniform of the party. His hair was very fair, his face naturally sanguine, his skin \\nroughened by coarse soap and blunt razor blades and the cold of the winter that had just ended.\\nOutside, even through the shut window-pane, the world looked cold. Down in the street little \\neddies of wind were whirling dust and torn paper into spirals, and though the sun was shining \\nand the sky a harsh blue, there seemed to be no colour in anything, except the posters that \\nwere plastered everywhere. The blackmoustachio'd face gazed down from every commanding corner.\", metadata={'source': './files/chapter_one.docx'}),\n",
       " Document(page_content=\"Part One\\n1\\nIt was a bright cold day in April, and the clocks were striking thirteen. Winston Smith, his chin \\nnuzzled into his breast in an effort to escape the vile wind, slipped quickly through the glass doors \\nof Victory Mansions, though not quickly enough to prevent a swirl of gritty dust from entering \\nalong with him.\\nThe hallway smelt of boiled cabbage and old rag mats. At one end of it a coloured poster, too \\nlarge for indoor display, had been tacked to the wall. It depicted simply an enormous face, more \\nthan a metre wide: the face of a man of about forty-five, with a heavy black moustache and \\nruggedly handsome features. Winston made for the stairs. It was no use trying the lift. Even at the \\nbest of times it was seldom working, and at present the electric current was cut off during daylight \\nhours. It was part of the economy drive in preparation for Hate Week. The flat was seven flights up, \\nand Winston, who was thirty-nine and had a varicose ulcer above his right ankle, went slowly, \\nresting several times on the way. On each landing, opposite the lift-shaft, the poster with the \\nenormous face gazed from the wall. It was one of those pictures which are so contrived that the \\neyes follow you about when you move. BIG BROTHER IS WATCHING YOU, the caption beneath it ran.\\nInside the flat a fruity voice was reading out a list of figures which had something to do with the \\nproduction of pig-iron. The voice came from an oblong metal plaque like a dulled mirror \\nwhich formed part of the surface of the right-hand wall. Winston turned a switch and the voice sank \\nsomewhat, though the words were still distinguishable. The instrument (the telescreen, it was \\ncalled) could be dimmed, but there was no way of shutting it off completely. He moved over to the \\nwindow: a smallish, frail figure, the meagreness of his body merely emphasized by the blue overalls \\nwhich were the uniform of the party. His hair was very fair, his face naturally sanguine, his skin \\nroughened by coarse soap and blunt razor blades and the cold of the winter that had just ended.\\nOutside, even through the shut window-pane, the world looked cold. Down in the street little \\neddies of wind were whirling dust and torn paper into spirals, and though the sun was shining \\nand the sky a harsh blue, there seemed to be no colour in anything, except the posters that \\nwere plastered everywhere. The blackmoustachio'd face gazed down from every commanding corner.\", metadata={'source': './files/chapter_one.docx'}),\n",
       " Document(page_content=\"Part One\\n1\\nIt was a bright cold day in April, and the clocks were striking thirteen. Winston Smith, his chin \\nnuzzled into his breast in an effort to escape the vile wind, slipped quickly through the glass doors \\nof Victory Mansions, though not quickly enough to prevent a swirl of gritty dust from entering \\nalong with him.\\nThe hallway smelt of boiled cabbage and old rag mats. At one end of it a coloured poster, too \\nlarge for indoor display, had been tacked to the wall. It depicted simply an enormous face, more \\nthan a metre wide: the face of a man of about forty-five, with a heavy black moustache and \\nruggedly handsome features. Winston made for the stairs. It was no use trying the lift. Even at the \\nbest of times it was seldom working, and at present the electric current was cut off during daylight \\nhours. It was part of the economy drive in preparation for Hate Week. The flat was seven flights up, \\nand Winston, who was thirty-nine and had a varicose ulcer above his right ankle, went slowly, \\nresting several times on the way. On each landing, opposite the lift-shaft, the poster with the \\nenormous face gazed from the wall. It was one of those pictures which are so contrived that the \\neyes follow you about when you move. BIG BROTHER IS WATCHING YOU, the caption beneath it ran.\\nInside the flat a fruity voice was reading out a list of figures which had something to do with the \\nproduction of pig-iron. The voice came from an oblong metal plaque like a dulled mirror \\nwhich formed part of the surface of the right-hand wall. Winston turned a switch and the voice sank \\nsomewhat, though the words were still distinguishable. The instrument (the telescreen, it was \\ncalled) could be dimmed, but there was no way of shutting it off completely. He moved over to the \\nwindow: a smallish, frail figure, the meagreness of his body merely emphasized by the blue overalls \\nwhich were the uniform of the party. His hair was very fair, his face naturally sanguine, his skin \\nroughened by coarse soap and blunt razor blades and the cold of the winter that had just ended.\\nOutside, even through the shut window-pane, the world looked cold. Down in the street little \\neddies of wind were whirling dust and torn paper into spirals, and though the sun was shining \\nand the sky a harsh blue, there seemed to be no colour in anything, except the posters that \\nwere plastered everywhere. The blackmoustachio'd face gazed down from every commanding corner.\", metadata={'source': './files/chapter_one.docx'})]"
      ]
     },
     "execution_count": 15,
     "metadata": {},
     "output_type": "execute_result"
    }
   ],
   "source": [
    "# results = vectorstore.similarity_search(\"where does winston live\")\n",
    "\n",
    "# results"
   ]
  },
  {
   "cell_type": "code",
   "execution_count": null,
   "metadata": {},
   "outputs": [],
   "source": []
  }
 ],
 "metadata": {
  "kernelspec": {
   "display_name": "env",
   "language": "python",
   "name": "python3"
  },
  "language_info": {
   "codemirror_mode": {
    "name": "ipython",
    "version": 3
   },
   "file_extension": ".py",
   "mimetype": "text/x-python",
   "name": "python",
   "nbconvert_exporter": "python",
   "pygments_lexer": "ipython3",
   "version": "3.11.7"
  }
 },
 "nbformat": 4,
 "nbformat_minor": 2
}
