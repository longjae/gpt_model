{
 "cells": [
  {
   "cell_type": "code",
   "execution_count": 9,
   "metadata": {},
   "outputs": [
    {
     "data": {
      "text/plain": [
       "[Document(page_content=\"Part One\\n\\n\\n1\\nIt was a bright cold day in April, and the clocks were striking thirteen. Winston Smith, his chin \\nnuzzled into his breast in an effort to escape the vile wind, slipped quickly through the glass doors \\nof Victory Mansions, though not quickly enough to prevent a swirl of gritty dust from entering \\nalong with him.\\n\\nThe hallway smelt of boiled cabbage and old rag mats. At one end of it a coloured poster, too \\nlarge for indoor display, had been tacked to the wall. It depicted simply an enormous face, more \\nthan a metre wide: the face of a man of about forty-five, with a heavy black moustache and \\nruggedly handsome features. Winston made for the stairs. It was no use trying the lift. Even at the \\nbest of times it was seldom working, and at present the electric current was cut off during daylight \\nhours. It was part of the economy drive in preparation for Hate Week. The flat was seven flights up, \\nand Winston, who was thirty-nine and had a varicose ulcer above his right ankle, went slowly, \\nresting several times on the way. On each landing, opposite the lift-shaft, the poster with the \\nenormous face gazed from the wall. It was one of those pictures which are so contrived that the \\neyes follow you about when you move. BIG BROTHER IS WATCHING YOU, the caption beneath it ran.\\n\\nInside the flat a fruity voice was reading out a list of figures which had something to do with the \\nproduction of pig-iron. The voice came from an oblong metal plaque like a dulled mirror \\nwhich formed part of the surface of the right-hand wall. Winston turned a switch and the voice sank \\nsomewhat, though the words were still distinguishable. The instrument (the telescreen, it was \\ncalled) could be dimmed, but there was no way of shutting it off completely. He moved over to the \\nwindow: a smallish, frail figure, the meagreness of his body merely emphasized by the blue overalls \\nwhich were the uniform of the party. His hair was very fair, his face naturally sanguine, his skin \\nroughened by coarse soap and blunt razor blades and the cold of the winter that had just ended.\\n\\nOutside, even through the shut window-pane, the world looked cold. Down in the street little \\neddies of wind were whirling dust and torn paper into spirals, and though the sun was shining \\nand the sky a harsh blue, there seemed to be no colour in anything, except the posters that \\nwere plastered everywhere. The blackmoustachio'd face gazed down from every commanding corner. \\nThere was one on the house-front immediately opposite. BIG BROTHER IS WATCHING YOU, the caption \\nsaid, while the dark eyes looked deep into Winston's own. Down at streetlevel another poster, \\ntorn at one corner, flapped fitfully in the wind, alternately covering and uncovering the single \\nword INGSOC. In the far distance a helicopter skimmed down between the roofs, hovered for \\nan instant like a bluebottle, and darted away again with a curving flight. It was the police \\npatrol, snooping into people's windows. The patrols did not matter, however. Only the Thought \\nPolice mattered.\\n\\nBehind Winston's back the voice from the telescreen was still babbling away about pig-iron and \\nthe overfulfilment of the Ninth Three-Year Plan. The telescreen received and transmitted \\nsimultaneously. Any sound that Winston made, above the level of a very low whisper, would be \\npicked up by it, moreover, so long as he remained within the field of vision which the metal \\nplaque commanded, he could be seen as well as heard. There was of course no way of knowing \\nwhether you were being watched at any given moment. How often, or on what system, the Thought \\nPolice plugged in on any individual wire was guesswork. It was even conceivable that they \\nwatched everybody all the time. But at any rate they could plug in your wire whenever they \\nwanted to. You had to live -- did live, from habit that became instinct -- in the assumption \\nthat every sound you made was overheard, and, except in darkness, every movement scrutinized.\\n\\nWinston kept his back turned to the telescreen. It was safer, though, as he well knew, \\neven a back can be revealing. A kilometre away the Ministry of Truth, his place of work, \\ntowered vast and white above the grimy landscape. This, he thought with a sort of vague \\ndistaste -- this was London, chief city of Airstrip One, itself the third most populous \\nof the provinces of Oceania. He tried to squeeze out some childhood memory that should tell \\nhim whether London had always been quite like this. Were there always these vistas of rotting \\nnineteenth-century houses, their sides shored up with baulks of timber, their windows patched \\nwith cardboard and their roofs with corrugated iron, their crazy garden walls sagging in all \\ndirections? And the bombed sites where the plaster dust swirled in the air and the willow-herb \\nstraggled over the heaps of rubble; and the places where the bombs had cleared a larger patch \\nand there had sprung up sordid colonies of wooden dwellings like chicken-houses? But it was no \\nuse, he could not remember: nothing remained of his childhood except a series of bright-lit \\ntableaux occurring against no background and mostly unintelligible.\\n\\nThe Ministry of Truth -- Minitrue, in Newspeak -- was startlingly different from any other object \\nin sight. It was an enormous pyramidal structure of glittering white concrete, soaring up, \\nterrace after terrace, 300 metres into the air. From where Winston stood it was just possible \\nto read, picked out on its white face in elegant lettering, the three slogans of the Party:\\n\\nWAR IS PEACE\\n\\nFREEDOM IS SLAVERY\\n\\nIGNORANCE IS STRENGTH\", metadata={'source': './files/chapter_one.txt'})]"
      ]
     },
     "execution_count": 9,
     "metadata": {},
     "output_type": "execute_result"
    }
   ],
   "source": [
    "from langchain.document_loaders import TextLoader\n",
    "\n",
    "loader = TextLoader(\"./files/chapter_one.txt\")\n",
    "\n",
    "loader.load()"
   ]
  },
  {
   "cell_type": "code",
   "execution_count": 10,
   "metadata": {},
   "outputs": [
    {
     "data": {
      "text/plain": [
       "[Document(page_content='Part One  \\n \\n \\n1 \\nIt was a bright cold day in April, and the clocks were striking thirteen. Winston Smith, his chin  \\nnuzzled into his breast in an effort to escape the vile wind, slipped quickly through the glass doors  \\nof Victory Mansions, though not quickly enough to prevent a swirl of gritty dust from entering  \\nalong with him.  \\n \\nThe hallway smelt of boiled cabbage and old rag mats. At one end of it a coloured poster, too  \\nlarge for indoor display, had been tacked to the wall. It depicted simply an enormous face, more  \\nthan a metre wide: the face of a man of about forty -five, with a heavy black moustache and  \\nruggedly handsome features. Winston made for the stairs. It was no use trying the lift. Even at the  \\nbest of times it was seldom working, and at present the electric current was cut off during daylight  \\nhours. It was part of the economy drive in preparation for Hate Week. The flat was seven flights up,  \\nand Winston, who was thirty -nine and had a varicose ulcer above his right ankle, went slowly,  \\nresting several times on the way. On each landing, opposite the lift -shaft, the poster with the  \\nenormous face gazed from the wall. It was one of those pictures which are so contrived that the  \\neyes follow you about when you move. BIG BROTHER IS WATCHING YOU, the caption beneath it \\nran. \\n \\nInside the flat a fruity voice was reading out a list of figures which had something to do with the  \\nproduction of pig -iron. The voice came from an oblong metal plaque like a dulled mirror  \\nwhich formed part of the surface of the right -hand wall. Winston turned a switch and the voice sank  \\nsomewhat, though the words were still distinguishable. The instrument (the telescreen, it was  \\ncalled) could be dimmed, but there was no way of shutting it off completely. He moved over to the  ', metadata={'source': './files/chapter_one.pdf', 'page': 0}),\n",
       " Document(page_content=\"window: a smallish, frail figure, the meagreness of his body merely emphasized by the blue overalls  \\nwhich were the uniform of the party. His hair was very fair, his face naturally sanguine, his skin  \\nroughened by coarse soap and blunt razor blades and the cold of the winter that had just ended.  \\n \\nOutside, even through the shut window -pane, the world looked cold. Down in the street little  \\neddies of wind were whirling dust and torn paper into spirals, and though the sun was shining  \\nand the sky a harsh blue, there seemed to be no colour in anything, except the posters that  \\nwere plastered everywhere. The blackmoustachio'd face gazed down from every commanding corner.  \\nThere was one on the house -front immediately opposite. BIG BROTHER IS WATCHING YOU, the \\ncaption  \\nsaid, while the dark eyes looked deep into Winston's own. Down at streetlevel another poster,  \\ntorn at one corner, flapped fitfully in the wind, alternately covering and uncovering the single  \\nword INGSOC. In the far distance a helicopter skimmed down between the roofs, hovered for  \\nan instant like a bluebottle, and darted away again with a curving flight. It was the police  \\npatrol, snooping into people's windows. The patrols did not matter, however. Only the Thought  \\nPolice mattered.  \\n \\nBehind Winston's back the voice from the telescreen was still babbling away about pig -iron and  \\nthe overfulfilment of the Ninth Three -Year Plan. The telescreen received and transmitted  \\nsimultaneously. Any sound that Winston made, above the level of a very low whisper, would be  \\npicked up by it, moreover, so long as he remained within the field of vision which the metal  \\nplaque commanded, he could be seen as well as heard. There was of course no way of knowing  \\nwhether you were being watched at any given moment. How often, or on what system, the Thought  \\nPolice plugged in on any individual wire was guesswork. It was even conceivable that they  \\nwatched everybody all the time. But at any rate they could plug in your wire whenever they  \\nwanted to. You had to live -- did live, from habit that became instinct -- in the assumption  \", metadata={'source': './files/chapter_one.pdf', 'page': 1}),\n",
       " Document(page_content='that every sound you made was overheard, and, except in darkness, every movement scrutinized.  \\n \\nWinston kept his back turned to the telescreen. It was safer, though, as he well knew,  \\neven a back can be revealing. A kilometre away the Ministry of Truth, his place of work,  \\ntowered vast and white above the grimy landscape. This, he thought with a sort of vague  \\ndistaste -- this was London, chief city of Airstrip One, itself the third most populous  \\nof the provinces of Oceania. He tried to squeeze out some childhood memory that should tell  \\nhim whether London had always been quite like this. Were there always these vistas of rotting  \\nnineteenth -century houses, their sides shored up with baulks of timber, their windows patched  \\nwith cardboard and their roofs with corrugated iron, their crazy garden walls sagging in all  \\ndirections? And the bombed sites where the plaster dust swirled in the air and the willow -herb  \\nstraggled over the heaps of rubble; and the places where the bombs had cleared a larger patch  \\nand there had sprung up sordid colonies of wooden dwellings like chicken -houses? But it was no  \\nuse, he could not remember: nothing remained of his childhood except a series of bright -lit  \\ntableaux occurring against no background and mostly unintelligible.  \\n \\nThe Ministry of Truth -- Minitrue, in Newspeak -- was startlingly different from any other object  \\nin sight. It was an enormous pyramidal structure of glittering white concrete, soaring up,  \\nterrace after terrace, 300 metres into the air. From where Winston stood it was just possible  \\nto read, picked out on its white face in elegant lettering, the three slogans of the Party:  \\n \\nWAR IS PEACE  \\n \\nFREEDOM IS SLAVERY  \\n \\nIGNORANCE IS STRENGTH  ', metadata={'source': './files/chapter_one.pdf', 'page': 2})]"
      ]
     },
     "execution_count": 10,
     "metadata": {},
     "output_type": "execute_result"
    }
   ],
   "source": [
    "from langchain.document_loaders import PyPDFLoader\n",
    "\n",
    "loader = PyPDFLoader(\"./files/chapter_one.pdf\")\n",
    "\n",
    "loader.load()"
   ]
  },
  {
   "cell_type": "code",
   "execution_count": 11,
   "metadata": {},
   "outputs": [
    {
     "data": {
      "text/plain": [
       "[Document(page_content=\"Part One\\n\\n1\\n\\nIt was a bright cold day in April, and the clocks were striking thirteen. Winston Smith, his chin\\n\\nnuzzled into his breast in an effort to escape the vile wind, slipped quickly through the glass doors\\n\\nof Victory Mansions, though not quickly enough to prevent a swirl of gritty dust from entering\\n\\nalong with him.\\n\\nThe hallway smelt of boiled cabbage and old rag mats. At one end of it a coloured poster, too\\n\\nlarge for indoor display, had been tacked to the wall. It depicted simply an enormous face, more\\n\\nthan a metre wide: the face of a man of about forty-five, with a heavy black moustache and\\n\\nruggedly handsome features. Winston made for the stairs. It was no use trying the lift. Even at the\\n\\nbest of times it was seldom working, and at present the electric current was cut off during daylight\\n\\nhours. It was part of the economy drive in preparation for Hate Week. The flat was seven flights up,\\n\\nand Winston, who was thirty-nine and had a varicose ulcer above his right ankle, went slowly,\\n\\nresting several times on the way. On each landing, opposite the lift-shaft, the poster with the\\n\\nenormous face gazed from the wall. It was one of those pictures which are so contrived that the\\n\\neyes follow you about when you move. BIG BROTHER IS WATCHING YOU, the caption beneath it\\n\\nran.\\n\\nInside the flat a fruity voice was reading out a list of figures which had something to do with the\\n\\nproduction of pig-iron. The voice came from an oblong metal plaque like a dulled mirror\\n\\nwhich formed part of the surface of the right-hand wall. Winston turned a switch and the voice sank\\n\\nsomewhat, though the words were still distinguishable. The instrument (the telescreen, it was\\n\\ncalled) could be dimmed, but there was no way of shutting it off completely. He moved over to the\\n\\nwindow: a smallish, frail figure, the meagreness of his body merely emphasized by the blue overalls\\n\\nwhich were the uniform of the party. His hair was very fair, his face naturally sanguine, his skin\\n\\nroughened by coarse soap and blunt razor blades and the cold of the winter that had just ended.\\n\\nOutside, even through the shut window-pane, the world looked cold. Down in the street little\\n\\neddies of wind were whirling dust and torn paper into spirals, and though the sun was shining\\n\\nand the sky a harsh blue, there seemed to be no colour in anything, except the posters that\\n\\nwere plastered everywhere. The blackmoustachio'd face gazed down from every commanding corner.\\n\\nThere was one on the house-front immediately opposite. BIG BROTHER IS WATCHING YOU, the\\n\\ncaption\\n\\nsaid, while the dark eyes looked deep into Winston's own. Down at streetlevel another poster,\\n\\ntorn at one corner, flapped fitfully in the wind, alternately covering and uncovering the single\\n\\nword INGSOC. In the far distance a helicopter skimmed down between the roofs, hovered for\\n\\nan instant like a bluebottle, and darted away again with a curving flight. It was the police\\n\\npatrol, snooping into people's windows. The patrols did not matter, however. Only the Thought\\n\\nPolice mattered.\\n\\nBehind Winston's back the voice from the telescreen was still babbling away about pig-iron and\\n\\nthe overfulfilment of the Ninth Three-Year Plan. The telescreen received and transmitted\\n\\nsimultaneously. Any sound that Winston made, above the level of a very low whisper, would be\\n\\npicked up by it, moreover, so long as he remained within the field of vision which the metal\\n\\nplaque commanded, he could be seen as well as heard. There was of course no way of knowing\\n\\nwhether you were being watched at any given moment. How often, or on what system, the Thought\\n\\nPolice plugged in on any individual wire was guesswork. It was even conceivable that they\\n\\nwatched everybody all the time. But at any rate they could plug in your wire whenever they\\n\\nwanted to. You had to live -- did live, from habit that became instinct -- in the assumption\\n\\nthat every sound you made was overheard, and, except in darkness, every movement scrutinized.\\n\\nWinston kept his back turned to the telescreen. It was safer, though, as he well knew,\\n\\neven a back can be revealing. A kilometre away the Ministry of Truth, his place of work,\\n\\ntowered vast and white above the grimy landscape. This, he thought with a sort of vague\\n\\ndistaste -- this was London, chief city of Airstrip One, itself the third most populous\\n\\nof the provinces of Oceania. He tried to squeeze out some childhood memory that should tell\\n\\nhim whether London had always been quite like this. Were there always these vistas of rotting\\n\\nnineteenth-century houses, their sides shored up with baulks of timber, their windows patched\\n\\nwith cardboard and their roofs with corrugated iron, their crazy garden walls sagging in all\\n\\ndirections? And the bombed sites where the plaster dust swirled in the air and the willow-herb\\n\\nstraggled over the heaps of rubble; and the places where the bombs had cleared a larger patch\\n\\nand there had sprung up sordid colonies of wooden dwellings like chicken-houses? But it was no\\n\\nuse, he could not remember: nothing remained of his childhood except a series of bright-lit\\n\\ntableaux occurring against no background and mostly unintelligible.\\n\\nThe Ministry of Truth -- Minitrue, in Newspeak -- was startlingly different from any other object\\n\\nin sight. It was an enormous pyramidal structure of glittering white concrete, soaring up,\\n\\nterrace after terrace, 300 metres into the air. From where Winston stood it was just possible\\n\\nto read, picked out on its white face in elegant lettering, the three slogans of the Party:\\n\\nWAR IS PEACE\\n\\nFREEDOM IS SLAVERY\\n\\nIGNORANCE IS STRENGTH\", metadata={'source': './files/chapter_one.pdf'})]"
      ]
     },
     "execution_count": 11,
     "metadata": {},
     "output_type": "execute_result"
    }
   ],
   "source": [
    "from langchain.document_loaders import UnstructuredFileLoader\n",
    "\n",
    "loader = UnstructuredFileLoader(\"./files/chapter_one.pdf\")\n",
    "\n",
    "loader.load()"
   ]
  },
  {
   "cell_type": "code",
   "execution_count": 12,
   "metadata": {},
   "outputs": [
    {
     "data": {
      "text/plain": [
       "[Document(page_content=\"Part One\\n\\n1 It was a bright cold day in April, and the clocks were striking thirteen. Winston Smith, his chin nuzzled into his breast in an effort to escape the vile wind, slipped quickly through the glass doors of Victory Mansions, though not quickly enough to prevent a swirl of gritty dust from entering along with him.\\n\\nThe hallway smelt of boiled cabbage and old rag mats. At one end of it a coloured poster, too large for indoor display, had been tacked to the wall. It depicted simply an enormous face, more than a metre wide: the face of a man of about forty-five, with a heavy black moustache and ruggedly handsome features. Winston made for the stairs. It was no use trying the lift. Even at the best of times it was seldom working, and at present the electric current was cut off during daylight hours. It was part of the economy drive in preparation for Hate Week. The flat was seven flights up, and Winston, who was thirty-nine and had a varicose ulcer above his right ankle, went slowly, resting several times on the way. On each landing, opposite the lift-shaft, the poster with the enormous face gazed from the wall. It was one of those pictures which are so contrived that the eyes follow you about when you move. BIG BROTHER IS WATCHING YOU, the caption beneath it ran.\\n\\nInside the flat a fruity voice was reading out a list of figures which had something to do with the production of pig-iron. The voice came from an oblong metal plaque like a dulled mirror which formed part of the surface of the right-hand wall. Winston turned a switch and the voice sank somewhat, though the words were still distinguishable. The instrument (the telescreen, it was called) could be dimmed, but there was no way of shutting it off completely. He moved over to the window: a smallish, frail figure, the meagreness of his body merely emphasized by the blue overalls which were the uniform of the party. His hair was very fair, his face naturally sanguine, his skin roughened by coarse soap and blunt razor blades and the cold of the winter that had just ended.\\n\\nOutside, even through the shut window-pane, the world looked cold. Down in the street little eddies of wind were whirling dust and torn paper into spirals, and though the sun was shining and the sky a harsh blue, there seemed to be no colour in anything, except the posters that were plastered everywhere. The blackmoustachio'd face gazed down from every commanding corner. There was one on the house-front immediately opposite. BIG BROTHER IS WATCHING YOU, the caption said, while the dark eyes looked deep into Winston's own. Down at streetlevel another poster, torn at one corner, flapped fitfully in the wind, alternately covering and uncovering the single word INGSOC. In the far distance a helicopter skimmed down between the roofs, hovered for an instant like a bluebottle, and darted away again with a curving flight. It was the police patrol, snooping into people's windows. The patrols did not matter, however. Only the Thought Police mattered.\\n\\nBehind Winston's back the voice from the telescreen was still babbling away about pig-iron and the overfulfilment of the Ninth Three-Year Plan. The telescreen received and transmitted simultaneously. Any sound that Winston made, above the level of a very low whisper, would be picked up by it, moreover, so long as he remained within the field of vision which the metal plaque commanded, he could be seen as well as heard. There was of course no way of knowing whether you were being watched at any given moment. How often, or on what system, the Thought Police plugged in on any individual wire was guesswork. It was even conceivable that they watched everybody all the time. But at any rate they could plug in your wire whenever they wanted to. You had to live -- did live, from habit that became instinct -- in the assumption that every sound you made was overheard, and, except in darkness, every movement scrutinized.\", metadata={'source': './files/chapter_one.txt'}),\n",
       " Document(page_content='Winston kept his back turned to the telescreen. It was safer, though, as he well knew, even a back can be revealing. A kilometre away the Ministry of Truth, his place of work, towered vast and white above the grimy landscape. This, he thought with a sort of vague distaste -- this was London, chief city of Airstrip One, itself the third most populous of the provinces of Oceania. He tried to squeeze out some childhood memory that should tell him whether London had always been quite like this. Were there always these vistas of rotting nineteenth-century houses, their sides shored up with baulks of timber, their windows patched with cardboard and their roofs with corrugated iron, their crazy garden walls sagging in all directions? And the bombed sites where the plaster dust swirled in the air and the willow-herb straggled over the heaps of rubble; and the places where the bombs had cleared a larger patch and there had sprung up sordid colonies of wooden dwellings like chicken-houses? But it was no use, he could not remember: nothing remained of his childhood except a series of bright-lit tableaux occurring against no background and mostly unintelligible.\\n\\nThe Ministry of Truth -- Minitrue, in Newspeak -- was startlingly different from any other object in sight. It was an enormous pyramidal structure of glittering white concrete, soaring up, terrace after terrace, 300 metres into the air. From where Winston stood it was just possible to read, picked out on its white face in elegant lettering, the three slogans of the Party:\\n\\nWAR IS PEACE\\n\\nFREEDOM IS SLAVERY\\n\\nIGNORANCE IS STRENGTH', metadata={'source': './files/chapter_one.txt'})]"
      ]
     },
     "execution_count": 12,
     "metadata": {},
     "output_type": "execute_result"
    }
   ],
   "source": [
    "# 문서가 크기 때문에 split해서 나누는 작업이 필요함\n",
    "from langchain.text_splitter import RecursiveCharacterTextSplitter\n",
    "\n",
    "splitter = RecursiveCharacterTextSplitter()\n",
    "\n",
    "loader = UnstructuredFileLoader(\"./files/chapter_one.txt\")\n",
    "\n",
    "loader.load_and_split(text_splitter=splitter)"
   ]
  },
  {
   "cell_type": "code",
   "execution_count": 13,
   "metadata": {},
   "outputs": [
    {
     "data": {
      "text/plain": [
       "[Document(page_content='Part One\\n\\n1 It was a bright cold day in April, and the clocks were striking thirteen. Winston Smith, his chin nuzzled into his breast in an effort to escape the vile wind, slipped quickly through the glass doors of Victory Mansions, though not quickly enough to prevent a swirl of gritty dust from entering along with him.', metadata={'source': './files/chapter_one.txt'}),\n",
       " Document(page_content='The hallway smelt of boiled cabbage and old rag mats. At one end of it a coloured poster, too large for indoor display, had been tacked to the wall. It depicted simply an enormous face, more than a metre wide: the face of a man of about forty-five, with a heavy black moustache and ruggedly handsome features. Winston made for the stairs. It was no use trying the lift. Even at the best of times it was seldom working, and at present the electric current was cut off during daylight hours. It was part of the economy drive in preparation for Hate Week. The flat was seven flights up, and Winston,', metadata={'source': './files/chapter_one.txt'}),\n",
       " Document(page_content='part of the economy drive in preparation for Hate Week. The flat was seven flights up, and Winston, who was thirty-nine and had a varicose ulcer above his right ankle, went slowly, resting several times on the way. On each landing, opposite the lift-shaft, the poster with the enormous face gazed from the wall. It was one of those pictures which are so contrived that the eyes follow you about when you move. BIG BROTHER IS WATCHING YOU, the caption beneath it ran.', metadata={'source': './files/chapter_one.txt'}),\n",
       " Document(page_content='Inside the flat a fruity voice was reading out a list of figures which had something to do with the production of pig-iron. The voice came from an oblong metal plaque like a dulled mirror which formed part of the surface of the right-hand wall. Winston turned a switch and the voice sank somewhat, though the words were still distinguishable. The instrument (the telescreen, it was called) could be dimmed, but there was no way of shutting it off completely. He moved over to the window: a smallish, frail figure, the meagreness of his body merely emphasized by the blue overalls which were the', metadata={'source': './files/chapter_one.txt'}),\n",
       " Document(page_content='frail figure, the meagreness of his body merely emphasized by the blue overalls which were the uniform of the party. His hair was very fair, his face naturally sanguine, his skin roughened by coarse soap and blunt razor blades and the cold of the winter that had just ended.', metadata={'source': './files/chapter_one.txt'}),\n",
       " Document(page_content=\"Outside, even through the shut window-pane, the world looked cold. Down in the street little eddies of wind were whirling dust and torn paper into spirals, and though the sun was shining and the sky a harsh blue, there seemed to be no colour in anything, except the posters that were plastered everywhere. The blackmoustachio'd face gazed down from every commanding corner. There was one on the house-front immediately opposite. BIG BROTHER IS WATCHING YOU, the caption said, while the dark eyes looked deep into Winston's own. Down at streetlevel another poster, torn at one corner, flapped\", metadata={'source': './files/chapter_one.txt'}),\n",
       " Document(page_content=\"looked deep into Winston's own. Down at streetlevel another poster, torn at one corner, flapped fitfully in the wind, alternately covering and uncovering the single word INGSOC. In the far distance a helicopter skimmed down between the roofs, hovered for an instant like a bluebottle, and darted away again with a curving flight. It was the police patrol, snooping into people's windows. The patrols did not matter, however. Only the Thought Police mattered.\", metadata={'source': './files/chapter_one.txt'}),\n",
       " Document(page_content=\"Behind Winston's back the voice from the telescreen was still babbling away about pig-iron and the overfulfilment of the Ninth Three-Year Plan. The telescreen received and transmitted simultaneously. Any sound that Winston made, above the level of a very low whisper, would be picked up by it, moreover, so long as he remained within the field of vision which the metal plaque commanded, he could be seen as well as heard. There was of course no way of knowing whether you were being watched at any given moment. How often, or on what system, the Thought Police plugged in on any individual wire was\", metadata={'source': './files/chapter_one.txt'}),\n",
       " Document(page_content='moment. How often, or on what system, the Thought Police plugged in on any individual wire was guesswork. It was even conceivable that they watched everybody all the time. But at any rate they could plug in your wire whenever they wanted to. You had to live -- did live, from habit that became instinct -- in the assumption that every sound you made was overheard, and, except in darkness, every movement scrutinized.', metadata={'source': './files/chapter_one.txt'}),\n",
       " Document(page_content='Winston kept his back turned to the telescreen. It was safer, though, as he well knew, even a back can be revealing. A kilometre away the Ministry of Truth, his place of work, towered vast and white above the grimy landscape. This, he thought with a sort of vague distaste -- this was London, chief city of Airstrip One, itself the third most populous of the provinces of Oceania. He tried to squeeze out some childhood memory that should tell him whether London had always been quite like this. Were there always these vistas of rotting nineteenth-century houses, their sides shored up with baulks', metadata={'source': './files/chapter_one.txt'}),\n",
       " Document(page_content='there always these vistas of rotting nineteenth-century houses, their sides shored up with baulks of timber, their windows patched with cardboard and their roofs with corrugated iron, their crazy garden walls sagging in all directions? And the bombed sites where the plaster dust swirled in the air and the willow-herb straggled over the heaps of rubble; and the places where the bombs had cleared a larger patch and there had sprung up sordid colonies of wooden dwellings like chicken-houses? But it was no use, he could not remember: nothing remained of his childhood except a series of bright-lit', metadata={'source': './files/chapter_one.txt'}),\n",
       " Document(page_content='was no use, he could not remember: nothing remained of his childhood except a series of bright-lit tableaux occurring against no background and mostly unintelligible.', metadata={'source': './files/chapter_one.txt'}),\n",
       " Document(page_content='The Ministry of Truth -- Minitrue, in Newspeak -- was startlingly different from any other object in sight. It was an enormous pyramidal structure of glittering white concrete, soaring up, terrace after terrace, 300 metres into the air. From where Winston stood it was just possible to read, picked out on its white face in elegant lettering, the three slogans of the Party:\\n\\nWAR IS PEACE\\n\\nFREEDOM IS SLAVERY\\n\\nIGNORANCE IS STRENGTH', metadata={'source': './files/chapter_one.txt'})]"
      ]
     },
     "execution_count": 13,
     "metadata": {},
     "output_type": "execute_result"
    }
   ],
   "source": [
    "# 문서가 크기 때문에 split해서 나누는 작업이 필요함\n",
    "from langchain.text_splitter import RecursiveCharacterTextSplitter\n",
    "\n",
    "splitter = RecursiveCharacterTextSplitter(\n",
    "    chunk_size=600,\n",
    "    chunk_overlap=100,\n",
    ")\n",
    "\n",
    "loader = UnstructuredFileLoader(\"./files/chapter_one.txt\")\n",
    "\n",
    "loader.load_and_split(text_splitter=splitter)"
   ]
  },
  {
   "cell_type": "code",
   "execution_count": 14,
   "metadata": {},
   "outputs": [
    {
     "name": "stderr",
     "output_type": "stream",
     "text": [
      "Created a chunk of size 963, which is longer than the specified 600\n",
      "Created a chunk of size 774, which is longer than the specified 600\n",
      "Created a chunk of size 954, which is longer than the specified 600\n",
      "Created a chunk of size 922, which is longer than the specified 600\n",
      "Created a chunk of size 1168, which is longer than the specified 600\n"
     ]
    },
    {
     "data": {
      "text/plain": [
       "[Document(page_content='Part One\\n1 It was a bright cold day in April, and the clocks were striking thirteen. Winston Smith, his chin nuzzled into his breast in an effort to escape the vile wind, slipped quickly through the glass doors of Victory Mansions, though not quickly enough to prevent a swirl of gritty dust from entering along with him.', metadata={'source': './files/chapter_one.txt'}),\n",
       " Document(page_content='The hallway smelt of boiled cabbage and old rag mats. At one end of it a coloured poster, too large for indoor display, had been tacked to the wall. It depicted simply an enormous face, more than a metre wide: the face of a man of about forty-five, with a heavy black moustache and ruggedly handsome features. Winston made for the stairs. It was no use trying the lift. Even at the best of times it was seldom working, and at present the electric current was cut off during daylight hours. It was part of the economy drive in preparation for Hate Week. The flat was seven flights up, and Winston, who was thirty-nine and had a varicose ulcer above his right ankle, went slowly, resting several times on the way. On each landing, opposite the lift-shaft, the poster with the enormous face gazed from the wall. It was one of those pictures which are so contrived that the eyes follow you about when you move. BIG BROTHER IS WATCHING YOU, the caption beneath it ran.', metadata={'source': './files/chapter_one.txt'}),\n",
       " Document(page_content='Inside the flat a fruity voice was reading out a list of figures which had something to do with the production of pig-iron. The voice came from an oblong metal plaque like a dulled mirror which formed part of the surface of the right-hand wall. Winston turned a switch and the voice sank somewhat, though the words were still distinguishable. The instrument (the telescreen, it was called) could be dimmed, but there was no way of shutting it off completely. He moved over to the window: a smallish, frail figure, the meagreness of his body merely emphasized by the blue overalls which were the uniform of the party. His hair was very fair, his face naturally sanguine, his skin roughened by coarse soap and blunt razor blades and the cold of the winter that had just ended.', metadata={'source': './files/chapter_one.txt'}),\n",
       " Document(page_content=\"Outside, even through the shut window-pane, the world looked cold. Down in the street little eddies of wind were whirling dust and torn paper into spirals, and though the sun was shining and the sky a harsh blue, there seemed to be no colour in anything, except the posters that were plastered everywhere. The blackmoustachio'd face gazed down from every commanding corner. There was one on the house-front immediately opposite. BIG BROTHER IS WATCHING YOU, the caption said, while the dark eyes looked deep into Winston's own. Down at streetlevel another poster, torn at one corner, flapped fitfully in the wind, alternately covering and uncovering the single word INGSOC. In the far distance a helicopter skimmed down between the roofs, hovered for an instant like a bluebottle, and darted away again with a curving flight. It was the police patrol, snooping into people's windows. The patrols did not matter, however. Only the Thought Police mattered.\", metadata={'source': './files/chapter_one.txt'}),\n",
       " Document(page_content=\"Behind Winston's back the voice from the telescreen was still babbling away about pig-iron and the overfulfilment of the Ninth Three-Year Plan. The telescreen received and transmitted simultaneously. Any sound that Winston made, above the level of a very low whisper, would be picked up by it, moreover, so long as he remained within the field of vision which the metal plaque commanded, he could be seen as well as heard. There was of course no way of knowing whether you were being watched at any given moment. How often, or on what system, the Thought Police plugged in on any individual wire was guesswork. It was even conceivable that they watched everybody all the time. But at any rate they could plug in your wire whenever they wanted to. You had to live -- did live, from habit that became instinct -- in the assumption that every sound you made was overheard, and, except in darkness, every movement scrutinized.\", metadata={'source': './files/chapter_one.txt'}),\n",
       " Document(page_content='Winston kept his back turned to the telescreen. It was safer, though, as he well knew, even a back can be revealing. A kilometre away the Ministry of Truth, his place of work, towered vast and white above the grimy landscape. This, he thought with a sort of vague distaste -- this was London, chief city of Airstrip One, itself the third most populous of the provinces of Oceania. He tried to squeeze out some childhood memory that should tell him whether London had always been quite like this. Were there always these vistas of rotting nineteenth-century houses, their sides shored up with baulks of timber, their windows patched with cardboard and their roofs with corrugated iron, their crazy garden walls sagging in all directions? And the bombed sites where the plaster dust swirled in the air and the willow-herb straggled over the heaps of rubble; and the places where the bombs had cleared a larger patch and there had sprung up sordid colonies of wooden dwellings like chicken-houses? But it was no use, he could not remember: nothing remained of his childhood except a series of bright-lit tableaux occurring against no background and mostly unintelligible.', metadata={'source': './files/chapter_one.txt'}),\n",
       " Document(page_content='The Ministry of Truth -- Minitrue, in Newspeak -- was startlingly different from any other object in sight. It was an enormous pyramidal structure of glittering white concrete, soaring up, terrace after terrace, 300 metres into the air. From where Winston stood it was just possible to read, picked out on its white face in elegant lettering, the three slogans of the Party:\\nWAR IS PEACE\\nFREEDOM IS SLAVERY\\nIGNORANCE IS STRENGTH', metadata={'source': './files/chapter_one.txt'})]"
      ]
     },
     "execution_count": 14,
     "metadata": {},
     "output_type": "execute_result"
    }
   ],
   "source": [
    "# 문서가 크기 때문에 split해서 나누는 작업이 필요함\n",
    "from langchain.text_splitter import CharacterTextSplitter\n",
    "\n",
    "splitter = CharacterTextSplitter(\n",
    "    separator=\"\\n\",\n",
    "    chunk_size=600,\n",
    "    chunk_overlap=100,\n",
    ")\n",
    "\n",
    "loader = UnstructuredFileLoader(\"./files/chapter_one.txt\")\n",
    "\n",
    "loader.load_and_split(text_splitter=splitter)"
   ]
  },
  {
   "cell_type": "code",
   "execution_count": null,
   "metadata": {},
   "outputs": [],
   "source": []
  }
 ],
 "metadata": {
  "kernelspec": {
   "display_name": "env",
   "language": "python",
   "name": "python3"
  },
  "language_info": {
   "codemirror_mode": {
    "name": "ipython",
    "version": 3
   },
   "file_extension": ".py",
   "mimetype": "text/x-python",
   "name": "python",
   "nbconvert_exporter": "python",
   "pygments_lexer": "ipython3",
   "version": "3.11.7"
  }
 },
 "nbformat": 4,
 "nbformat_minor": 2
}
